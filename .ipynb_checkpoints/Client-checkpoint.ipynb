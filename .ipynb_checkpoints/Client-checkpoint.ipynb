{
 "cells": [
  {
   "cell_type": "code",
   "execution_count": null,
   "id": "33b760d0-59f1-4a8d-b060-0e6af341366b",
   "metadata": {},
   "outputs": [],
   "source": [
    "import cv2\n",
    "import socket\n",
    "import struct\n",
    "import pickle\n",
    "import imutils\n",
    "\n",
    "client_socket = socket.socket(socket.AF_INET, socket.SOCK_STREAM)\n",
    "client_socket.connect(('192.168.5.128', 8485))  # Replace with your server's IP and port\n",
    "\n",
    "cam = cv2.VideoCapture(0)\n",
    "img_counter = 0\n",
    "\n",
    "encode_param = [int(cv2.IMWRITE_JPEG_QUALITY), 90]\n",
    "\n",
    "while True:\n",
    "    ret, frame = cam.read()\n",
    "\n",
    "    frame = imutils.resize(frame, width=320)\n",
    "    frame = cv2.flip(frame, 180)\n",
    "\n",
    "    result, image = cv2.imencode('.jpg', frame, encode_param)\n",
    "    data = pickle.dumps(image, 0)\n",
    "    size = len(data)\n",
    "\n",
    "    client_socket.sendall(struct.pack(\">L\", size) + data)\n",
    "\n",
    "    # Receive augmented feed from the server\n",
    "    data = b\"\"\n",
    "    payload_size = struct.calcsize(\">L\")\n",
    "    while len(data) < payload_size:\n",
    "        data += client_socket.recv(4096)\n",
    "\n",
    "    packed_msg_size = data[:payload_size]\n",
    "    data = data[payload_size:]\n",
    "    msg_size = struct.unpack(\">L\", packed_msg_size)[0]\n",
    "\n",
    "    while len(data) < msg_size:\n",
    "        data += client_socket.recv(4096)\n",
    "\n",
    "    frame_data = data[:msg_size]\n",
    "    data = data[msg_size:]\n",
    "\n",
    "    # Decode and display the augmented frame\n",
    "    augmented_frame = pickle.loads(frame_data, fix_imports=True, encoding=\"bytes\")\n",
    "    augmented_frame = cv2.imdecode(augmented_frame, cv2.IMREAD_COLOR)\n",
    "    #cv2.putText(augmented_frame ,\"Client\", (100,100),cv2.FONT_HERSHEY_SIMPLEX ,1,(255,0,0),2)\n",
    "    cv2.imshow('Augmented Feed', augmented_frame)\n",
    "\n",
    "    img_counter += 1\n",
    "\n",
    "    if cv2.waitKey(1) & 0xFF == ord('q'):\n",
    "        break\n",
    "\n",
    "cam.release()\n",
    "cv2.destroyAllWindows()\n",
    "client_socket.close()\n"
   ]
  },
  {
   "cell_type": "code",
   "execution_count": null,
   "id": "292cae3b-f34e-475f-b2e3-46bc98dd0dd2",
   "metadata": {},
   "outputs": [],
   "source": []
  }
 ],
 "metadata": {
  "kernelspec": {
   "display_name": "Python 3 (ipykernel)",
   "language": "python",
   "name": "python3"
  },
  "language_info": {
   "codemirror_mode": {
    "name": "ipython",
    "version": 3
   },
   "file_extension": ".py",
   "mimetype": "text/x-python",
   "name": "python",
   "nbconvert_exporter": "python",
   "pygments_lexer": "ipython3",
   "version": "3.11.5"
  }
 },
 "nbformat": 4,
 "nbformat_minor": 5
}
